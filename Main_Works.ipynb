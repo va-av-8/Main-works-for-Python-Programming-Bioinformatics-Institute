{
 "cells": [
  {
   "cell_type": "markdown",
   "metadata": {},
   "source": [
    "Write a program that takes a rectangular matrix as a sequence of rows as input. After the last row of the matrix comes a row containing only the string \"end\" (without quotes, see Sample Input).\n",
    "\n",
    "The program should output a matrix of the same size, in which each element in positions i, j is equal to the sum of the elements of the first matrix in positions (i-1, j), (i+1, j), (i, j-1), (i , j+1). For extreme characters, the neighboring element is on the opposite side of the matrix.\n",
    "\n",
    "In the case of a single row/column, the element is itself a neighbor in the corresponding direction. "
   ]
  },
  {
   "cell_type": "code",
   "execution_count": 1,
   "metadata": {},
   "outputs": [
    {
     "name": "stdout",
     "output_type": "stream",
     "text": [
      "1 2 3\n",
      "4 5 6\n",
      "end\n",
      "13 14 15 \n",
      "13 14 15 \n"
     ]
    }
   ],
   "source": [
    "inp = input()\n",
    "lst = []\n",
    "answ = []\n",
    "while inp != 'end':\n",
    "    lst.append([int(i) for i in inp.split()])\n",
    "    inp = input()\n",
    "answ = [[0 for j in range(len(lst[0]))] for i in range(len(lst))]\n",
    "for i in range(len(lst)):\n",
    "    for j in range(len(lst[0])):\n",
    "        answ[i][j] = lst[i-1][j] + lst[(i+1)%len(lst)][j] + lst[i][j-1] + lst[i][(j+1)%len(lst[0])]\n",
    "        print(answ[i][j], end =' ')\n",
    "    print()"
   ]
  },
  {
   "cell_type": "markdown",
   "metadata": {},
   "source": [
    "Output an n×n table filled with numbers from 1 to n**2 in a spiral starting from the upper left corner and twisting clockwise "
   ]
  },
  {
   "cell_type": "code",
   "execution_count": 2,
   "metadata": {},
   "outputs": [
    {
     "name": "stdout",
     "output_type": "stream",
     "text": [
      "6\n",
      "1 2 3 4 5 6 \n",
      "20 21 22 23 24 7 \n",
      "19 32 33 34 25 8 \n",
      "18 31 36 35 26 9 \n",
      "17 30 29 28 27 10 \n",
      "16 15 14 13 12 11 \n"
     ]
    }
   ],
   "source": [
    "n = int(input())\n",
    "L = [[0 for j in range(n)] for i in range(n)]\n",
    "step = 0\n",
    "offset = 0\n",
    "last_value = 1\n",
    "while last_value <= n**2:\n",
    "    for j in range(n-offset):\n",
    "        L[step][j+step] = last_value \n",
    "        last_value += 1\n",
    "    for i in range(n-1-offset):     \n",
    "        L[i+1+step][n-1-step] = last_value\n",
    "        last_value += 1\n",
    "    for j in range(n-1-offset):\n",
    "        L[n-1-step][n-j-2-step] = last_value\n",
    "        last_value += 1\n",
    "    for i in range(n-2-offset):\n",
    "        L[n-i-2-step][step] = last_value\n",
    "        last_value += 1\n",
    "    step += 1\n",
    "    offset += 2\n",
    "for i in range(len(L)):\n",
    "    for j in range(len(L[0])):\n",
    "        print(L[i][j], end =' ')\n",
    "    print()"
   ]
  },
  {
   "cell_type": "markdown",
   "metadata": {},
   "source": [
    "Write a modify_list(l) function that takes a list of integers as input, removes all odd values from it, and even divides the even ones by two. The function should not return anything, it only needs to change the passed list, for example: lst = [1, 2, 3, 4, 5, 6] print(modify_list(lst)) # None print(lst) # [1, 2, 3] modify_list(lst) print(lst) # [1]\n",
    "\n",
    "lst = [10, 5, 8, 3] modify_list(lst) print(lst) # [5, 4]"
   ]
  },
  {
   "cell_type": "code",
   "execution_count": 3,
   "metadata": {},
   "outputs": [
    {
     "data": {
      "text/plain": [
       "[1, 2, 3]"
      ]
     },
     "execution_count": 3,
     "metadata": {},
     "output_type": "execute_result"
    }
   ],
   "source": [
    "def modify_list(l):\n",
    "    i = len(l) - 1\n",
    "    while i >= 0:\n",
    "        if l[i] % 2 == 0:\n",
    "            l[i] = l[i]//2\n",
    "            i -= 1\n",
    "        elif l[i]%2 != 0:\n",
    "            l.pop(i)\n",
    "            i -= 1\n",
    "L = [1,2,3,4,5,6]\n",
    "modify_list(L)\n",
    "L"
   ]
  },
  {
   "cell_type": "markdown",
   "metadata": {},
   "source": [
    "Write an update_dictionary(d, key, value) function that takes a dd dictionary and two numbers as input: keykey and valuevalue.\n",
    "\n",
    "If the key key is in the dictionary d, then add the value value to the list stored by this key. If the key key is not in the dictionary, then you need to add the value to the list by the key 2 * key. If there is no 2 * key either, then you need to add the 2 * key key to the dictionary and match it with the list from the passed [value] element.\n",
    "\n",
    "It is required to implement only this function, there should be no code outside of it. The function must not call the input and print functions internally.\n",
    "\n",
    "An example of how the function works:\n",
    "\n",
    "d = {} print(update_dictionary(d, 1, -1)) # None print(d) # {2: [-1]} update_dictionary(d, 2, -2) print(d) # {2: [- 1, -2]} update_dictionary(d, 1, -3) print(d) # {2: [-1, -2, -3]} "
   ]
  },
  {
   "cell_type": "code",
   "execution_count": 4,
   "metadata": {},
   "outputs": [
    {
     "name": "stdout",
     "output_type": "stream",
     "text": [
      "None\n",
      "{2: [-1]}\n",
      "{2: [-1, -2]}\n",
      "{2: [-1, -2, -3]}\n"
     ]
    }
   ],
   "source": [
    "def update_dictionary(d, key, value):\n",
    "    if key in d.keys():\n",
    "        d[key] += [value]\n",
    "    elif 2*key in d.keys():\n",
    "        d[2*key] += [value]\n",
    "    else:\n",
    "        d[2*key] = [value]\n",
    "d = {}\n",
    "print(update_dictionary(d, 1, -1))\n",
    "print(d)\n",
    "update_dictionary(d, 2, -2)\n",
    "print(d)\n",
    "update_dictionary(d, 1, -3)\n",
    "print(d)"
   ]
  },
  {
   "cell_type": "markdown",
   "metadata": {},
   "source": [
    "When Anton read \"War and Peace\", he became interested in how many words and in what quantity are used in this book.\n",
    "\n",
    "Help Anton write a simplified version of such a program that can count space-separated words and display the resulting statistics.\n",
    "\n",
    "The program should read one line from the standard input and output for each unique word in this line the number of its repetitions (case insensitive) in the format \"word count\" (see example output). The order of output of words can be arbitrary, each unique word must be output only once. "
   ]
  },
  {
   "cell_type": "code",
   "execution_count": 5,
   "metadata": {},
   "outputs": [
    {
     "name": "stdout",
     "output_type": "stream",
     "text": [
      "aa sdd aA AAA dfjj\n",
      "aa 2\n",
      "sdd 1\n",
      "aaa 1\n",
      "dfjj 1\n"
     ]
    }
   ],
   "source": [
    "text = input().lower().split()\n",
    "d = {}\n",
    "i = 0\n",
    "for word in text:\n",
    "    i = text.count(word)\n",
    "    if word not in d:\n",
    "        d[word] = i\n",
    "for i in d.items():\n",
    "    print(*i)"
   ]
  },
  {
   "cell_type": "code",
   "execution_count": 6,
   "metadata": {},
   "outputs": [
    {
     "name": "stdout",
     "output_type": "stream",
     "text": [
      "aa sdd aA AAA dfjj\n",
      "dfjj 1\n",
      "sdd 1\n",
      "aa 2\n",
      "aaa 1\n"
     ]
    }
   ],
   "source": [
    "s = input().lower().split()\n",
    "for i in set(s):\n",
    "    print(i, s.count(i))"
   ]
  },
  {
   "cell_type": "markdown",
   "metadata": {},
   "source": [
    "Write a program that reads from a file a line corresponding to the text compressed using repetition coding and performs the reverse operation, obtaining the original text.\n",
    "\n",
    "Write the received text to a file and attach it as an answer to this task.\n",
    "\n",
    "There are no numbers in the source text, so the code is uniquely interpretable. sample input:\n",
    "\n",
    "a3b4c2e10b1 Sample Output:\n",
    "\n",
    "aaabbbcceeeeeeeeeeb"
   ]
  },
  {
   "cell_type": "code",
   "execution_count": 7,
   "metadata": {},
   "outputs": [
    {
     "name": "stdout",
     "output_type": "stream",
     "text": [
      "W D D D D D D u u u u u u u u l l l l l l l l l l l l l D D D D D D D D D D D D D D D D D D D D R R R R R R R R R R R R R R R X X X X X X X X X X X X X X X u u u u u u u u u u u X X X n n n n n n n n n h h h h h h h h F F F Z Z Z Z Z Z y y y y y y y y y r r r r r r r r r r r r r r r r m m m m m m m m m m m m m F F F l l l l l l l Q Q Q Q Q Q Q Q Q Q Q Q Q Q Q Q u u u u u u u u u u u u u u Z Z Z Z Z Z F F F F F F F F F F F B B B B B B B B B B B B B B O O O O O O C C C C C C C C C B B B B B B B B b b b b b b b b b b b b b b b b b b o o o o o o o o o o o o o o W W j j j j j j j j j j j j j j j j j t t t l l l l l l l l l l l l l N N N N N N N N N N N N N N N N t t t t t t t t t t t t t t t t t s s s s s s s s s s s s s s s s s s Y Y Y R R R R R R R R R R R R R R R R R R R\n"
     ]
    }
   ],
   "source": [
    "with open ('dataset_3363_2 (5).txt') as file_in, open(\"out.txt\", 'w') as file_out:\n",
    "    for line in file_in:\n",
    "        s = line\n",
    "        num = '1234567890'\n",
    "        digit = '0'\n",
    "        alpha = ''\n",
    "        output = ''\n",
    "        for x in s:\n",
    "            if x not in num:\n",
    "                output += alpha * int(digit)\n",
    "                digit = '0'\n",
    "                alpha = x\n",
    "            elif x in num:\n",
    "                digit += x\n",
    "        output += alpha * int(digit)\n",
    "        print(*output)\n",
    "        file_out.write(output)"
   ]
  },
  {
   "cell_type": "markdown",
   "metadata": {},
   "source": [
    "Write a program that reads text from a file (there may be more than one line in the file) and outputs the most frequent word in this text and, separated by a space, how many times it occurred. If there are several such words, output the first one lexicographically (you can use the < operator for strings). "
   ]
  },
  {
   "cell_type": "code",
   "execution_count": 8,
   "metadata": {},
   "outputs": [
    {
     "name": "stdout",
     "output_type": "stream",
     "text": [
      "z 14\n"
     ]
    }
   ],
   "source": [
    "text = open('dataset_3363_3 (3).txt')\n",
    "s = text.read().replace('\\n', ' ').lower().split()\n",
    "text.close()\n",
    "s.sort()\n",
    "d = {}\n",
    "for i in set(s):\n",
    "    d[i] = s.count(i)\n",
    "f = 0\n",
    "word = ''\n",
    "for key in d.keys():\n",
    "    if d[key] > f:\n",
    "        f = d[key]\n",
    "        word = key\n",
    "print(word, f)"
   ]
  },
  {
   "cell_type": "markdown",
   "metadata": {},
   "source": [
    "There is a file with data on the progress of applicants. It is a set of lines, where each line contains the following information:\n",
    "\n",
    "Surname; Grade_in_mathematics; Grade_in_physics; Grade_in_Russian_language\n",
    "\n",
    "Fields within a row are separated by semicolons, scores are integers.\n",
    "\n",
    "Write a program that reads a source file with a similar structure and for each applicant writes his average mark in three subjects on a separate line corresponding to this applicant in the answer file.\n",
    "\n",
    "Also calculate the average scores in mathematics, physics and Russian for all applicants and add the resulting values, separated by a space, in the last line to the answer file. "
   ]
  },
  {
   "cell_type": "code",
   "execution_count": 11,
   "metadata": {},
   "outputs": [
    {
     "name": "stdout",
     "output_type": "stream",
     "text": [
      "44.0\n",
      "\n",
      "83.333333333\n",
      "\n",
      "48.666666667\n",
      "\n",
      "82.666666667\n",
      "\n",
      "56.333333333\n",
      "\n",
      "93.333333333\n",
      "\n",
      "70.666666667\n",
      "\n",
      "78.666666667\n",
      "\n",
      "60.666666667\n",
      "\n",
      "48.666666667\n",
      "\n",
      "68.333333333\n",
      "\n",
      "60.0\n",
      "\n",
      "61.0\n",
      "\n",
      "42.0\n",
      "\n",
      "59.666666667\n",
      "\n",
      "68.333333333\n",
      "\n",
      "73.666666667\n",
      "\n",
      "53.333333333\n",
      "\n",
      "62.0\n",
      "\n",
      "77.333333333\n",
      "\n",
      "59.0\n",
      "\n",
      "75.666666667\n",
      "\n",
      "58.333333333\n",
      "\n",
      "82.0\n",
      "\n",
      "88.333333333\n",
      "\n",
      "38.333333333\n",
      "\n",
      "71.0\n",
      "\n",
      "43.333333333\n",
      "\n",
      "69.333333333\n",
      "\n",
      "68.333333333\n",
      "\n",
      "53.333333333\n",
      "\n",
      "52.0\n",
      "\n",
      "84.666666667\n",
      "\n",
      "45.666666667\n",
      "\n",
      "47.666666667\n",
      "\n",
      "69.333333333\n",
      "\n",
      "82.666666667\n",
      "\n",
      "83.666666667\n",
      "\n",
      "69.0\n",
      "\n",
      "66.333333333\n",
      "\n",
      "58.666666667\n",
      "\n",
      "64.666666667\n",
      "\n",
      "55.333333333\n",
      "\n",
      "55.666666667\n",
      "\n",
      "84.333333333\n",
      "\n",
      "47.333333333\n",
      "\n",
      "50.333333333\n",
      "\n",
      "70.333333333\n",
      "\n",
      "71.0\n",
      "\n",
      "71.0\n",
      "\n",
      "30.333333333\n",
      "\n",
      "81.666666667\n",
      "\n",
      "89.666666667\n",
      "\n",
      "43.0\n",
      "\n",
      "70.333333333\n",
      "\n",
      "43.333333333\n",
      "\n",
      "72.0\n",
      "\n",
      "59.666666667\n",
      "\n",
      "43.333333333\n",
      "\n",
      "69.333333333\n",
      "\n",
      "93.333333333\n",
      "\n",
      "63.295081967213115 62.63934426229508 67.11475409836065\n"
     ]
    }
   ],
   "source": [
    "with open ('dataset_3363_4 (1).txt') as file_in, open(\"out_students_scores.txt\", 'w') as file_out:\n",
    "    sum_s1, sum_s2, sum_s3, n = 0, 0, 0, 0\n",
    "    for line in file_in:\n",
    "        s = line.strip().split(';')\n",
    "        avg = (int(s[1]) + int(s[2]) + int(s[3]))/3\n",
    "        sum_s1 += int(s[1])\n",
    "        sum_s2 += int(s[2])\n",
    "        sum_s3 += int(s[3])\n",
    "        n += 1\n",
    "        file_out.write(str(round(avg,9)) + '\\n')\n",
    "        print(str(round(avg,9)) + '\\n')\n",
    "    avg_s1 = sum_s1/n\n",
    "    avg_s2 = sum_s2/n\n",
    "    avg_s3 = sum_s3/n\n",
    "    file_out.write(str(avg_s1) + ' ' + str(avg_s2) + ' ' + str(avg_s3))\n",
    "    print(str(avg_s1) + ' ' + str(avg_s2) + ' ' + str(avg_s3))"
   ]
  },
  {
   "cell_type": "markdown",
   "metadata": {},
   "source": [
    "There is a set of files, each of which, except for the last one, contains the name of the next file.\n",
    "The first word in the text of the last file: \"We\".\n",
    "\n",
    "Download the suggested file. It contains a link to the first file from this set.\n",
    "\n",
    "All files are located in the directory at:\n",
    "https://stepic.org/media/attachments/course67/3.6.3/\n",
    "\n",
    "Download the contents of the ﻿last file from the set as an answer to this challenge. "
   ]
  },
  {
   "cell_type": "code",
   "execution_count": null,
   "metadata": {},
   "outputs": [],
   "source": [
    "import requests\n",
    "file_path = requests.get(open('dataset_3378_3.txt').read().strip())\n",
    "while not file_path.text.startswith('We'):\n",
    "    file_path = requests.get('https://stepic.org/media/attachments/course67/3.6.3/' + file_path.text)\n",
    "\n",
    "print(file_path.text)"
   ]
  },
  {
   "cell_type": "code",
   "execution_count": null,
   "metadata": {},
   "outputs": [],
   "source": []
  }
 ],
 "metadata": {
  "kernelspec": {
   "display_name": "Python 3",
   "language": "python",
   "name": "python3"
  },
  "language_info": {
   "codemirror_mode": {
    "name": "ipython",
    "version": 3
   },
   "file_extension": ".py",
   "mimetype": "text/x-python",
   "name": "python",
   "nbconvert_exporter": "python",
   "pygments_lexer": "ipython3",
   "version": "3.7.6"
  }
 },
 "nbformat": 4,
 "nbformat_minor": 4
}
